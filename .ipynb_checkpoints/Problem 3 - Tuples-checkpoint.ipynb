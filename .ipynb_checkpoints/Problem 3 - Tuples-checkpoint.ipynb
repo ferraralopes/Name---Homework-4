{
 "cells": [
  {
   "cell_type": "code",
   "execution_count": 10,
   "metadata": {},
   "outputs": [
    {
     "name": "stdout",
     "output_type": "stream",
     "text": [
      "My day usually is like:\n",
      "\n",
      "Wake up\n",
      "Drink milk\n",
      "Go to work\n",
      "Eat lunch\n",
      "Leave work\n",
      "Go to gym\n",
      "Cook\n",
      "Eat dinner\n",
      "Watch tv\n",
      "Sleep\n"
     ]
    }
   ],
   "source": [
    "task = ('Wake up', 'Drink milk','Go to work', 'Eat lunch', 'Leave work', 'Go to gym', 'Cook', 'Eat dinner','Watch tv', 'Sleep')\n",
    "print ('My day usually is like:\\n')\n",
    "for index, task in enumerate(task):\n",
    "    print(task)\n",
    "\n"
   ]
  },
  {
   "cell_type": "code",
   "execution_count": null,
   "metadata": {},
   "outputs": [],
   "source": []
  }
 ],
 "metadata": {
  "kernelspec": {
   "display_name": "Python 3",
   "language": "python",
   "name": "python3"
  },
  "language_info": {
   "codemirror_mode": {
    "name": "ipython",
    "version": 3
   },
   "file_extension": ".py",
   "mimetype": "text/x-python",
   "name": "python",
   "nbconvert_exporter": "python",
   "pygments_lexer": "ipython3",
   "version": "3.6.0"
  }
 },
 "nbformat": 4,
 "nbformat_minor": 2
}
