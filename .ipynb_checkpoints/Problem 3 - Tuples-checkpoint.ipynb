{
 "cells": [
  {
   "cell_type": "code",
   "execution_count": 13,
   "metadata": {},
   "outputs": [
    {
     "name": "stdout",
     "output_type": "stream",
     "text": [
      "My day usually is like:\n",
      "0 wake up\n",
      "1 drink milk\n",
      "2 go to work\n",
      "3 eat lunch\n",
      "4 leave work\n",
      "5 go to gym\n",
      "6 cook\n",
      "7 eat dinner\n",
      "8 watch tv\n",
      "9 go to sleep\n"
     ]
    }
   ],
   "source": [
    "task = ('wake up', 'drink milk','go to work', 'eat lunch', 'leave work', 'go to gym', 'cook', 'eat dinner','watch tv', 'go to sleep')\n",
    "#task[0:10]\n",
    "print ('My day usually is like:')\n",
    "for index, task in enumerate(task):\n",
    "    print(index, task)\n",
    "\n"
   ]
  },
  {
   "cell_type": "code",
   "execution_count": null,
   "metadata": {},
   "outputs": [],
   "source": []
  },
  {
   "cell_type": "code",
   "execution_count": null,
   "metadata": {},
   "outputs": [],
   "source": []
  }
 ],
 "metadata": {
  "kernelspec": {
   "display_name": "Python 3",
   "language": "python",
   "name": "python3"
  },
  "language_info": {
   "codemirror_mode": {
    "name": "ipython",
    "version": 3
   },
   "file_extension": ".py",
   "mimetype": "text/x-python",
   "name": "python",
   "nbconvert_exporter": "python",
   "pygments_lexer": "ipython3",
   "version": "3.6.0"
  }
 },
 "nbformat": 4,
 "nbformat_minor": 2
}
