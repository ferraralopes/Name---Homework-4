{
 "cells": [
  {
   "cell_type": "code",
   "execution_count": 3,
   "metadata": {},
   "outputs": [
    {
     "data": {
      "text/plain": [
       "{'black panther'}"
      ]
     },
     "execution_count": 3,
     "metadata": {},
     "output_type": "execute_result"
    }
   ],
   "source": [
    "#Create 2 sets one of your favorite movies and one of another person in your life's favorite movies.\n",
    "\n",
    "washington = {'evita', 'the color purple', 'avatar', 'black panther', 'frida'}\n",
    "chris = {'interview with the vampire', 'a nightmare before christmas', 'the craft', 'black panther', 'deadpool'}\n",
    "\n",
    "#What favorite movies do you have in common with the other person?\n",
    "washington.intersection(chris)\n"
   ]
  },
  {
   "cell_type": "code",
   "execution_count": 4,
   "metadata": {},
   "outputs": [
    {
     "data": {
      "text/plain": [
       "{'avatar', 'evita', 'frida', 'the color purple'}"
      ]
     },
     "execution_count": 4,
     "metadata": {},
     "output_type": "execute_result"
    }
   ],
   "source": [
    "#Create 2 sets one of your favorite movies and one of another person in your life's favorite movies.\n",
    "\n",
    "washington = {'evita', 'the color purple', 'avatar', 'black panther', 'frida'}\n",
    "chris = {'interview with the vampire', 'a nightmare before christmas', 'the craft', 'black panther', 'deadpool'}\n",
    "\n",
    "#What movies are your favorite but aren't the other persons?\n",
    "washington.difference(chris)"
   ]
  },
  {
   "cell_type": "code",
   "execution_count": null,
   "metadata": {},
   "outputs": [],
   "source": []
  }
 ],
 "metadata": {
  "kernelspec": {
   "display_name": "Python 3",
   "language": "python",
   "name": "python3"
  },
  "language_info": {
   "codemirror_mode": {
    "name": "ipython",
    "version": 3
   },
   "file_extension": ".py",
   "mimetype": "text/x-python",
   "name": "python",
   "nbconvert_exporter": "python",
   "pygments_lexer": "ipython3",
   "version": "3.6.0"
  }
 },
 "nbformat": 4,
 "nbformat_minor": 2
}
