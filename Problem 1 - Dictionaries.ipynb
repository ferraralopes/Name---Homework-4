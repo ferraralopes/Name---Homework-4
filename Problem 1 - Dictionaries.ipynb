{
 "cells": [
  {
   "cell_type": "code",
   "execution_count": 33,
   "metadata": {},
   "outputs": [
    {
     "name": "stdout",
     "output_type": "stream",
     "text": [
      "Dictionary : A collection of key-value pairs. \n",
      "\n",
      "String : A series of characters. \n",
      "\n",
      "Boolean Expression : An expression that evaluates to True or False. \n",
      "\n",
      "Comment : A note in a program that the Python interpreter ignores. \n",
      "\n",
      "Value : An item associated with a key in a dictionary. \n",
      "\n",
      "Loop : Work through a collection of items, one at a time. \n",
      "\n",
      "List : A collection of items in a particular order. \n",
      "\n",
      "Key : The first item in a key-value pair in a dictionary. \n",
      "\n",
      "Float : A numerical value with a decimal component. \n",
      "\n"
     ]
    }
   ],
   "source": [
    "concepts = {'Dictionary':'A collection of key-value pairs.','String': 'A series of characters.','Boolean Expression':'An expression that evaluates to True or False.','Comment':'A note in a program that the Python interpreter ignores.','Value':'An item associated with a key in a dictionary.','Loop':'Work through a collection of items, one at a time.','List':'A collection of items in a particular order.','Key':'The first item in a key-value pair in a dictionary.','Float':'A numerical value with a decimal component.'}\n",
    "for key, value in concepts.items():\n",
    "    print('{} : {} \\n'.format(key, value))"
   ]
  },
  {
   "cell_type": "code",
   "execution_count": null,
   "metadata": {},
   "outputs": [],
   "source": []
  }
 ],
 "metadata": {
  "kernelspec": {
   "display_name": "Python 3",
   "language": "python",
   "name": "python3"
  },
  "language_info": {
   "codemirror_mode": {
    "name": "ipython",
    "version": 3
   },
   "file_extension": ".py",
   "mimetype": "text/x-python",
   "name": "python",
   "nbconvert_exporter": "python",
   "pygments_lexer": "ipython3",
   "version": "3.6.0"
  }
 },
 "nbformat": 4,
 "nbformat_minor": 2
}
